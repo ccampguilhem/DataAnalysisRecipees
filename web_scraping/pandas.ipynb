{
 "cells": [
  {
   "cell_type": "markdown",
   "metadata": {},
   "source": [
    "# Web scraping using pandas\n",
    "\n",
    "pandas provides a `read_html` function which is convenient to parse tables from web pages. As an example, we will use the https://en.wikipedia.org/wiki/List_of_ICAO_aircraft_type_designators#cite_note-ICAOcode-2 to get IATA and ICAO codes for aircrats."
   ]
  },
  {
   "cell_type": "code",
   "execution_count": 1,
   "metadata": {},
   "outputs": [],
   "source": [
    "import pandas as pd"
   ]
  },
  {
   "cell_type": "code",
   "execution_count": 2,
   "metadata": {},
   "outputs": [],
   "source": [
    "out = pd.read_html(\"https://en.wikipedia.org/wiki/List_of_ICAO_aircraft_type_designators#cite_note-ICAOcode-2\")"
   ]
  },
  {
   "cell_type": "markdown",
   "metadata": {},
   "source": [
    "This returns a list of all tables found in the page:"
   ]
  },
  {
   "cell_type": "code",
   "execution_count": 5,
   "metadata": {},
   "outputs": [
    {
     "name": "stdout",
     "output_type": "stream",
     "text": [
      "<class 'list'>\n"
     ]
    }
   ],
   "source": [
    "print(type(out))"
   ]
  },
  {
   "cell_type": "markdown",
   "metadata": {},
   "source": [
    "Each item in this list is a dataframe:"
   ]
  },
  {
   "cell_type": "code",
   "execution_count": 6,
   "metadata": {},
   "outputs": [
    {
     "data": {
      "text/html": [
       "<div>\n",
       "<style scoped>\n",
       "    .dataframe tbody tr th:only-of-type {\n",
       "        vertical-align: middle;\n",
       "    }\n",
       "\n",
       "    .dataframe tbody tr th {\n",
       "        vertical-align: top;\n",
       "    }\n",
       "\n",
       "    .dataframe thead th {\n",
       "        text-align: right;\n",
       "    }\n",
       "</style>\n",
       "<table border=\"1\" class=\"dataframe\">\n",
       "  <thead>\n",
       "    <tr style=\"text-align: right;\">\n",
       "      <th></th>\n",
       "      <th>0</th>\n",
       "      <th>1</th>\n",
       "      <th>2</th>\n",
       "    </tr>\n",
       "  </thead>\n",
       "  <tbody>\n",
       "    <tr>\n",
       "      <th>0</th>\n",
       "      <td>ICAOCode[2]</td>\n",
       "      <td>IATACode</td>\n",
       "      <td>Model</td>\n",
       "    </tr>\n",
       "    <tr>\n",
       "      <th>1</th>\n",
       "      <td>A124</td>\n",
       "      <td>A4F</td>\n",
       "      <td>Antonov AN-124 Ruslan</td>\n",
       "    </tr>\n",
       "    <tr>\n",
       "      <th>2</th>\n",
       "      <td>A140</td>\n",
       "      <td>A40</td>\n",
       "      <td>Antonov AN-140</td>\n",
       "    </tr>\n",
       "    <tr>\n",
       "      <th>3</th>\n",
       "      <td>A148</td>\n",
       "      <td>A81</td>\n",
       "      <td>Antonov An-148</td>\n",
       "    </tr>\n",
       "    <tr>\n",
       "      <th>4</th>\n",
       "      <td>A158</td>\n",
       "      <td>A58</td>\n",
       "      <td>Antonov An-158</td>\n",
       "    </tr>\n",
       "  </tbody>\n",
       "</table>\n",
       "</div>"
      ],
      "text/plain": [
       "             0         1                      2\n",
       "0  ICAOCode[2]  IATACode                  Model\n",
       "1         A124       A4F  Antonov AN-124 Ruslan\n",
       "2         A140       A40         Antonov AN-140\n",
       "3         A148       A81         Antonov An-148\n",
       "4         A158       A58         Antonov An-158"
      ]
     },
     "execution_count": 6,
     "metadata": {},
     "output_type": "execute_result"
    }
   ],
   "source": [
    "out[0].head()"
   ]
  },
  {
   "cell_type": "markdown",
   "metadata": {},
   "source": [
    "We can see that first row holds labels of columns, we can fix this easilly:"
   ]
  },
  {
   "cell_type": "code",
   "execution_count": 7,
   "metadata": {},
   "outputs": [],
   "source": [
    "df = out[0].drop(axis=0, labels=0)\n",
    "df.columns = [\"ICAO\", \"IATA\", \"Fullname\"]"
   ]
  },
  {
   "cell_type": "code",
   "execution_count": 8,
   "metadata": {},
   "outputs": [
    {
     "data": {
      "text/html": [
       "<div>\n",
       "<style scoped>\n",
       "    .dataframe tbody tr th:only-of-type {\n",
       "        vertical-align: middle;\n",
       "    }\n",
       "\n",
       "    .dataframe tbody tr th {\n",
       "        vertical-align: top;\n",
       "    }\n",
       "\n",
       "    .dataframe thead th {\n",
       "        text-align: right;\n",
       "    }\n",
       "</style>\n",
       "<table border=\"1\" class=\"dataframe\">\n",
       "  <thead>\n",
       "    <tr style=\"text-align: right;\">\n",
       "      <th></th>\n",
       "      <th>ICAO</th>\n",
       "      <th>IATA</th>\n",
       "      <th>Fullname</th>\n",
       "    </tr>\n",
       "  </thead>\n",
       "  <tbody>\n",
       "    <tr>\n",
       "      <th>1</th>\n",
       "      <td>A124</td>\n",
       "      <td>A4F</td>\n",
       "      <td>Antonov AN-124 Ruslan</td>\n",
       "    </tr>\n",
       "    <tr>\n",
       "      <th>2</th>\n",
       "      <td>A140</td>\n",
       "      <td>A40</td>\n",
       "      <td>Antonov AN-140</td>\n",
       "    </tr>\n",
       "    <tr>\n",
       "      <th>3</th>\n",
       "      <td>A148</td>\n",
       "      <td>A81</td>\n",
       "      <td>Antonov An-148</td>\n",
       "    </tr>\n",
       "    <tr>\n",
       "      <th>4</th>\n",
       "      <td>A158</td>\n",
       "      <td>A58</td>\n",
       "      <td>Antonov An-158</td>\n",
       "    </tr>\n",
       "    <tr>\n",
       "      <th>5</th>\n",
       "      <td>A19N</td>\n",
       "      <td>32D</td>\n",
       "      <td>Airbus A319neo</td>\n",
       "    </tr>\n",
       "  </tbody>\n",
       "</table>\n",
       "</div>"
      ],
      "text/plain": [
       "   ICAO IATA               Fullname\n",
       "1  A124  A4F  Antonov AN-124 Ruslan\n",
       "2  A140  A40         Antonov AN-140\n",
       "3  A148  A81         Antonov An-148\n",
       "4  A158  A58         Antonov An-158\n",
       "5  A19N  32D         Airbus A319neo"
      ]
     },
     "execution_count": 8,
     "metadata": {},
     "output_type": "execute_result"
    }
   ],
   "source": [
    "df.head()"
   ]
  },
  {
   "cell_type": "markdown",
   "metadata": {},
   "source": [
    "We can clean the dataset by removing duplicates (if any):"
   ]
  },
  {
   "cell_type": "code",
   "execution_count": 9,
   "metadata": {},
   "outputs": [],
   "source": [
    "df = df[~df.duplicated()]"
   ]
  },
  {
   "cell_type": "markdown",
   "metadata": {},
   "source": [
    "Split manufacturer from model:"
   ]
  },
  {
   "cell_type": "code",
   "execution_count": 10,
   "metadata": {
    "scrolled": false
   },
   "outputs": [],
   "source": [
    "def split(row):\n",
    "    series = row.copy()\n",
    "    fields = series.Fullname.split()\n",
    "    try:\n",
    "        field2 = fields[2]\n",
    "    except IndexError:\n",
    "        field2 = None\n",
    "    try:\n",
    "        field3 = fields[3]\n",
    "    except IndexError:\n",
    "        field3 = None\n",
    "    if series.Fullname == \"Launch - Boat\":\n",
    "        series[\"Manufacturer\"] = u\"Launch\"\n",
    "        series[\"Model\"] = u\"Boat\"\n",
    "    elif series.Fullname == \"Road Feeder Service - Cargo Truck\":\n",
    "        series[\"Manufacturer\"] = u\"Road Feeder Service\"\n",
    "        series[\"Model\"] = u\"Cargo Truck\"\n",
    "    elif series.Fullname == \"Concorde\":\n",
    "        series[\"Manufacturer\"] = u\"Aerospatiale\"\n",
    "        series[\"Model\"] = u\"Concorde\"\n",
    "    elif series.Fullname == \"EV-97 EuroStar / EV-97 Harmony\":\n",
    "        series[\"Manufacturer\"] = u\"Evektor-Aerotechnik\"\n",
    "        series[\"Model\"] = u\"EV-97 EuroStar / EV-97 Harmony\"\n",
    "    elif series.Fullname == \"Evektor SportStar\":\n",
    "        series[\"Manufacturer\"] = u\"Evektor-Aerotechnik\"\n",
    "        series[\"Model\"] = u\"SportStar\"\n",
    "    elif series.Fullname == \"Gulfstream Aerospace G-159 Gulfstream I\":\n",
    "        series[\"Manufacturer\"] = u\"Grumman\"\n",
    "        series[\"Model\"] = u\"G-159 Gulfstream I\"\n",
    "    elif fields[0] == \"Pipistrel\":\n",
    "        series[\"Manufacturer\"] = u\"Pipistrel\"\n",
    "        series[\"Model\"] = fields[1].rstrip('01234569789')\n",
    "    elif len(fields) == 1:\n",
    "        series[\"Manufacturer\"] = series.Fullname\n",
    "        series[\"Model\"] = series.Fullname\n",
    "    elif field3 in [\"Siddeley)\"]:\n",
    "        series[\"Manufacturer\"] = \" \".join(fields[0:4])\n",
    "        series[\"Model\"] = \" \".join(fields[4:])\n",
    "    elif field2 in [\"Factories\", \"Aviation)\", \"IPTN\", \"Mystere)\", \"Canada\", \"Industries\", \"(BAC)\"]:\n",
    "        series[\"Manufacturer\"] = u\" \".join(fields[0:3])\n",
    "        series[\"Model\"] = u\" \".join(fields[3:])\n",
    "    elif fields[1] in [\"Industrie\", \"(Aero)\", \"(Aerospatiale)\", \"Aerospace\", \"(BAC)\", \"Britten-Norman\", \n",
    "                       \"Dornier\", \"Havilland\", \"Siddeley\", \"Douglas\", \"(MBB)\", \"Helicopters\", \"(Nord)\", \n",
    "                       \"(Swearingen)\", \"Yunshuji\", \"Ultralight\", \"Rocket\"]:\n",
    "        series[\"Manufacturer\"] = u\" \".join(fields[0:2])\n",
    "        series[\"Model\"] = u\" \".join(fields[2:])\n",
    "    elif fields[0] in [\"Fokker\", \"BAe\", \"Airbus\", \"Boeing\", \"Antonov\", \"Agusta\", \"Ayres\", \"Avro\", \n",
    "                       \"Aerospatiale/Alenia\", \"Beechcraft\", \"Bell\", \"Canadair\", \"Cessna\", \"Convair\", \n",
    "                       \"Curtiss\", \"Douglas\", \"Embraer\", \"Eurocopter\", \"Fairchild\", \"Grumman\", \"Helio\",\n",
    "                       \"Ilyushin\", \"Junkers\", \"Lockheed\", \"LET\", \"Gates\", \"MIL\", \"Mitsubishi\", \"Piper\",\n",
    "                       \"Pilatus\", \"Partenavia\", \"Saab\", \"Sikorsky\", \"Shorts\", \"Aerospatiale/BAC\", \n",
    "                       \"Sukhoi\", \"Tupolev\", \"Vickers\", \"Yakovlev\", \"NAMC\", \"Beechcfrat\", \"Aerospatiale\", \n",
    "                       \"ICON\", \"Aeroprakt\", \"Robin\", \"Bombardier\", \"Beriev\", \"COMAC\", \"CASA/IPTN\", \n",
    "                       \"Tecnam\", \"Dassault\", \"Gulfstream\", \"Honda\", \"Learjet\", \"Mil\", \"Pipistrel\", \n",
    "                       \"Reims-Cessna\", \"Socata\"]:\n",
    "        series[\"Manufacturer\"] = fields[0]\n",
    "        series[\"Model\"] = u\" \".join(fields[1:])\n",
    "    else:\n",
    "        series[\"Manufacturer\"] = series.Fullname\n",
    "        series[\"Model\"] = series.Fullname\n",
    "    series.drop(labels=\"Fullname\", inplace=True)\n",
    "    return series"
   ]
  },
  {
   "cell_type": "code",
   "execution_count": 11,
   "metadata": {},
   "outputs": [],
   "source": [
    "df2 = df.apply(split, axis=1)"
   ]
  },
  {
   "cell_type": "markdown",
   "metadata": {},
   "source": [
    "And now let's map manufacturer names:"
   ]
  },
  {
   "cell_type": "code",
   "execution_count": 12,
   "metadata": {},
   "outputs": [],
   "source": [
    "df2.Manufacturer.replace({u\"BAe\": u\"British Aerospace\",\n",
    "                          u\"British Aerospace (BAC)\": u\"British Aerospace\",\n",
    "                          u\"Airbus Industrie\": u\"Airbus\", \n",
    "                          u\"Gulfstream/Rockwell (Aero)\": u\"Gulfstream/Rockwell\",\n",
    "                          u\"Gulfstream/Rockwell\": u\"Gulfstream/Rockwell\",\n",
    "                          u\"Eurocopter (Aerospatiale)\": u\"Eurocopter\",\n",
    "                          u\"Eurocopter (MBB)\": u\"Eurocopter\", \n",
    "                          u\"Beechcfrat\": u\"Beechcraft\", \n",
    "                          u\"Aerospatiale (Sud Aviation)\": u\"Aerospatiale\",\n",
    "                          u\"Aerospatiale (Nord)\": u\"Aerospatiale\",\n",
    "                          u\"Aerospatiale/Alenia\": u\"ATR\",\n",
    "                          u\"CASA / IPTN\": u\"CASA/IPTN\",\n",
    "                          u\"Dassault (Breguet Mystere)\": u\"Dassault\",\n",
    "                          u\"MIL\": u\"Mil\",\n",
    "                          u\"De Havilland Canada\": u\"De Havilland\"}, inplace=True)"
   ]
  },
  {
   "cell_type": "code",
   "execution_count": 14,
   "metadata": {},
   "outputs": [
    {
     "name": "stdout",
     "output_type": "stream",
     "text": [
      "['ATR' 'Aeroprakt' 'Aerospatiale' 'Airbus' 'Antonov' 'Avro' 'Beechcraft'\n",
      " 'Bell' 'Beriev' 'Boeing' 'Bombardier' 'British Aerospace' 'CASA/IPTN'\n",
      " 'COMAC' 'Canadair' 'Cessna' 'Convair' 'Curtiss' 'Dassault' 'De Havilland'\n",
      " 'Douglas' 'Embraer' 'Eurocopter' 'Evektor-Aerotechnik'\n",
      " 'Fairchild Dornier' 'Fokker' 'Government Aircraft Factories' 'Grumman'\n",
      " 'Gulfstream' 'Gulfstream/Rockwell' 'Harbin Yunshuji' 'Hawker Siddeley'\n",
      " 'Honda' 'ICON' 'Ilyushin' 'Israel Aircraft Industries' 'Junkers' 'LET'\n",
      " 'Learjet' 'Lockheed' 'MD Helicopters' 'McDonnell Douglas' 'Mil'\n",
      " 'Mitsubishi' 'NAMC' 'Partenavia' 'Pilatus' 'Pilatus Britten-Norman'\n",
      " 'Piper' 'Pipistrel' 'Reims-Cessna' 'Robin' 'Saab' 'Shorts' 'Sikorsky'\n",
      " 'Socata' 'Sukhoi' 'TL Ultralight' 'Team Rocket' 'Tecnam' 'Tupolev'\n",
      " 'Yakovlev']\n"
     ]
    }
   ],
   "source": [
    "manuf = df2.Manufacturer.unique()\n",
    "manuf.sort()\n",
    "print(manuf)"
   ]
  },
  {
   "cell_type": "code",
   "execution_count": 15,
   "metadata": {},
   "outputs": [
    {
     "name": "stdout",
     "output_type": "stream",
     "text": [
      "['100' '1124 Westwind'\n",
      " '125 series / Hawker/Raytheon 700/800/800XP/850/900'\n",
      " '125-1000 series / Hawker/Raytheon 1000' '146-100' '146-200' '146-300'\n",
      " '152' '162' '170' '172' '172 Cutlass RG' '175 (long wing)'\n",
      " '175 (short wing)' '177 Cardinal RG' '182 Skylane' '190' '1900' '195'\n",
      " '2000' '208 Caravan' '210 Centurion' '212' '212 Aviocar' '262' '328JET'\n",
      " '35 / 36 / C-21A' '410' '412' '415' '429' '50' '60' '70' '707' '717'\n",
      " '720B' '727-100' '727-200' '737 MAX 10' '737 MAX 7' '737 MAX 8'\n",
      " '737 MAX 9' '737-100' '737-200' '737-300' '737-400' '737-500' '737-600'\n",
      " '737-700' '737-800' '737-900' '747 LCF Dreamlifter' '747-100' '747-200'\n",
      " '747-300' '747-400' '747-8' '747SP' '747SR' '757-200' '757-300' '767-200'\n",
      " '767-300' '767-400' '777-200 / Boeing 777-200ER'\n",
      " '777-200LR / Boeing 777F' '777-300' '777-300ER' '777-8' '777-9' '787-10'\n",
      " '787-8' '787-9' 'A-22 Foxbat / A-22 Valor / A-22 Vision' 'A220-100'\n",
      " 'A220-300' 'A300-600' 'A300-600ST \"Super Transporter\" / \"Beluga\"'\n",
      " 'A300B1' 'A300B2, A300B4, and A300C4' 'A310' 'A318' 'A319' 'A319neo'\n",
      " 'A320' 'A320neo' 'A321' 'A321neo' 'A330-200' 'A330-300'\n",
      " 'A330-700 \"Beluga XL\"' 'A330-800neo' 'A330-900neo' 'A340-200' 'A340-300'\n",
      " 'A340-500' 'A340-600' 'A350-1000' 'A350-900' 'A380-800' 'A5' 'AN-12'\n",
      " 'AN-124 Ruslan' 'AN-140' 'AN-24' 'AN-26' 'AN-28' 'AN-30' 'AN-32'\n",
      " 'AN-72 / AN-74' 'AS332 Super Puma'\n",
      " 'AS350 Écureuil / AS355 Ecureuil 2 / AS550 Fennec' 'ATL' 'ATP'\n",
      " 'ATR 42-300 / 320' 'ATR 42-500' 'ATR 42-600' 'ATR 72' 'ATR 72-200 series'\n",
      " 'ATR 72-500' 'ATR 72-600' 'An-148' 'An-158' 'An-225 Mriya'\n",
      " 'BD-100 Challenger 300' 'BD-700 Global 5000' 'BN-2A Mk III Trislander'\n",
      " 'BN-2A/B Islander' 'Baron / 55 Baron' 'Baron / 58 Baron' 'Be-200 Altair'\n",
      " 'Bo.105' 'C-46 Commando' 'C-919' 'CL-44' 'CN-235' 'CV-240 & -440'\n",
      " 'CV-580, Convair CV-600, Convair CV-640' 'Challenger' 'Citation CJ2'\n",
      " 'Citation CJ3' 'Citation CJ4' 'Citation Excel' 'Citation I' 'Citation II'\n",
      " 'Citation III, VI, VII' 'Citation Mustang' 'Citation Sovereign'\n",
      " 'Citation V' 'Citation X' 'CitationJet' 'Commander' 'Concorde' 'DC-10'\n",
      " 'DC-3' 'DC-6' 'DC-8-50' 'DC-8-62' 'DC-8-72' 'DC-9-10' 'DC-9-20' 'DC-9-30'\n",
      " 'DC-9-40' 'DC-9-50' 'DH.104 Dove' 'DH.114 Heron' 'DHC-2 Beaver'\n",
      " 'DHC-2 Turbo-Beaver' 'DHC-3 Otter' 'DHC-4 Caribou' 'DHC-5 Buffalo'\n",
      " 'DHC-6 Twin Otter' 'DHC-7 Dash 7' 'DHC-8-100 Dash 8 / 8Q'\n",
      " 'DHC-8-200 Dash 8 / 8Q' 'DHC-8-300 Dash 8 / 8Q' 'DHC-8-400 Dash 8Q'\n",
      " 'Do.228' 'Do.328' 'EC120 Colibri / Harbin HC120' 'EC135 / EC635' 'EC145'\n",
      " 'EC225 Super Puma' 'EMB 110 Bandeirante' 'EMB 120 Brasilia'\n",
      " 'EV-97 EuroStar / EV-97 Harmony' 'F1' 'F27 Friendship' 'F28 Fellowship'\n",
      " 'F406 Caravan II' 'Falcon 2000' 'Falcon 50' 'Falcon 7X' 'Falcon 900'\n",
      " 'G-159 Gulfstream I' 'G-21 Goose' 'G-73 Turbo Mallard' 'G280' 'G650'\n",
      " 'Global Express / Raytheon Sentinel' 'HA-420'\n",
      " 'HR200/R2000 series, Alpha160A' 'HS 748' 'IL114' 'IL18' 'IL62' 'IL76'\n",
      " 'IL86' 'IL96' 'IV' 'Jetstream 31' 'Jetstream 32' 'Jetstream 41'\n",
      " 'Ju 52/3M' 'L-1011 Tristar' 'L-1049 Super Constellation'\n",
      " 'L-182 / 282 / 382 (L-100) Hercules' 'L-188 Electra' 'Legacy 450'\n",
      " 'Legacy 600 / Legacy 650' 'Lineage 1000' 'MD-11' 'MD-81' 'MD-82' 'MD-83'\n",
      " 'MD-87' 'MD-88' 'MD-90' 'MD900 Explorer' 'Mi-24 / Mi-25 / Mi-35'\n",
      " 'Mi-8 / Mi-17 / Mi-171 / Mil-172' 'Mu-2' 'N22B / N24A Nomad' 'One Eleven'\n",
      " 'P.68' 'P2006T' 'P2012 Traveller' 'P92 Echo / P92 Eaglet / P92 SeaSky'\n",
      " 'PA-28 (above 200 hp)' 'PA-28 (up to 180 hp)' 'PA-31 Navajo'\n",
      " 'PA-44 Seminole' 'PA-46' 'PC-12' 'PC-6 Turbo Porter' 'Phenom 100'\n",
      " 'Phenom 300' 'RJ100' 'RJ135' 'RJ140' 'RJ145' 'RJ70' 'RJ85'\n",
      " 'Regional Jet 100' 'Regional Jet 1000' 'Regional Jet 200'\n",
      " 'Regional Jet 700' 'Regional Jet 900' 'S-58T' 'S-61' 'S-76' 'S-92'\n",
      " 'SA365C / SA365N Dauphin 2' 'SC-5 Belfast' 'SC-7 Skyvan' 'SD.330'\n",
      " 'SD.360' 'SF340A/B' 'SN.601 Corvette' 'Se.210 Caravelle' 'Sinus[3]'\n",
      " 'SportStar' 'Superjet 100-95' 'TB-20 Trinidad'\n",
      " 'TL-96 Star / TL-2000 Sting' 'Taurus[3]' 'Tu-134' 'Tu-144' 'Tu-154'\n",
      " 'Tu-204 / Tu-214' 'Turbo Commander' 'V' 'Virus[3]' 'Y12' 'YS-11' 'Yak-40'\n",
      " 'Yak-42']\n"
     ]
    }
   ],
   "source": [
    "models = df2.Model.unique()\n",
    "models.sort()\n",
    "print(models)"
   ]
  },
  {
   "cell_type": "markdown",
   "metadata": {},
   "source": [
    "Now save the dataset for a later re-use:"
   ]
  },
  {
   "cell_type": "code",
   "execution_count": 16,
   "metadata": {},
   "outputs": [],
   "source": [
    "df2.to_csv(\"../data/aircrafts_codes.csv\", encoding='utf-8', index=False)"
   ]
  },
  {
   "cell_type": "code",
   "execution_count": null,
   "metadata": {},
   "outputs": [],
   "source": []
  }
 ],
 "metadata": {
  "kernelspec": {
   "display_name": "Python 3",
   "language": "python",
   "name": "python3"
  },
  "language_info": {
   "codemirror_mode": {
    "name": "ipython",
    "version": 3
   },
   "file_extension": ".py",
   "mimetype": "text/x-python",
   "name": "python",
   "nbconvert_exporter": "python",
   "pygments_lexer": "ipython3",
   "version": "3.6.6"
  }
 },
 "nbformat": 4,
 "nbformat_minor": 2
}
