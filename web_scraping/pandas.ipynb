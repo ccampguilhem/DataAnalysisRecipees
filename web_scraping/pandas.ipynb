{
 "cells": [
  {
   "cell_type": "markdown",
   "metadata": {},
   "source": [
    "# Web scraping using pandas\n",
    "\n",
    "pandas provides a `read_html` function which is convenient to parse tables from web pages. As an example, we will use the https://en.wikipedia.org/wiki/List_of_ICAO_aircraft_type_designators#cite_note-ICAOcode-2 to get IATA and ICAO codes for aircrats."
   ]
  },
  {
   "cell_type": "code",
   "execution_count": 1,
   "metadata": {},
   "outputs": [],
   "source": [
    "import pandas as pd"
   ]
  },
  {
   "cell_type": "code",
   "execution_count": 2,
   "metadata": {},
   "outputs": [],
   "source": [
    "out = pd.read_html(\"https://en.wikipedia.org/wiki/List_of_ICAO_aircraft_type_designators#cite_note-ICAOcode-2\")"
   ]
  },
  {
   "cell_type": "markdown",
   "metadata": {},
   "source": [
    "This returns a list of all tables found in the page:"
   ]
  },
  {
   "cell_type": "code",
   "execution_count": 3,
   "metadata": {},
   "outputs": [
    {
     "name": "stdout",
     "output_type": "stream",
     "text": [
      "<type 'list'>\n"
     ]
    }
   ],
   "source": [
    "print type(out)"
   ]
  },
  {
   "cell_type": "markdown",
   "metadata": {},
   "source": [
    "Each item in this list is a dataframe:"
   ]
  },
  {
   "cell_type": "code",
   "execution_count": 4,
   "metadata": {},
   "outputs": [
    {
     "data": {
      "text/html": [
       "<div>\n",
       "<style scoped>\n",
       "    .dataframe tbody tr th:only-of-type {\n",
       "        vertical-align: middle;\n",
       "    }\n",
       "\n",
       "    .dataframe tbody tr th {\n",
       "        vertical-align: top;\n",
       "    }\n",
       "\n",
       "    .dataframe thead th {\n",
       "        text-align: right;\n",
       "    }\n",
       "</style>\n",
       "<table border=\"1\" class=\"dataframe\">\n",
       "  <thead>\n",
       "    <tr style=\"text-align: right;\">\n",
       "      <th></th>\n",
       "      <th>0</th>\n",
       "      <th>1</th>\n",
       "      <th>2</th>\n",
       "    </tr>\n",
       "  </thead>\n",
       "  <tbody>\n",
       "    <tr>\n",
       "      <th>0</th>\n",
       "      <td>ICAO Code[2]</td>\n",
       "      <td>IATA Code</td>\n",
       "      <td>Model</td>\n",
       "    </tr>\n",
       "    <tr>\n",
       "      <th>1</th>\n",
       "      <td>A124</td>\n",
       "      <td>A4F</td>\n",
       "      <td>Antonov AN-124 Ruslan</td>\n",
       "    </tr>\n",
       "    <tr>\n",
       "      <th>2</th>\n",
       "      <td>A140</td>\n",
       "      <td>A40</td>\n",
       "      <td>Antonov AN-140</td>\n",
       "    </tr>\n",
       "    <tr>\n",
       "      <th>3</th>\n",
       "      <td>A148</td>\n",
       "      <td>A81</td>\n",
       "      <td>Antonov An-148</td>\n",
       "    </tr>\n",
       "    <tr>\n",
       "      <th>4</th>\n",
       "      <td>A158</td>\n",
       "      <td>A58</td>\n",
       "      <td>Antonov An-158</td>\n",
       "    </tr>\n",
       "  </tbody>\n",
       "</table>\n",
       "</div>"
      ],
      "text/plain": [
       "              0          1                      2\n",
       "0  ICAO Code[2]  IATA Code                  Model\n",
       "1          A124        A4F  Antonov AN-124 Ruslan\n",
       "2          A140        A40         Antonov AN-140\n",
       "3          A148        A81         Antonov An-148\n",
       "4          A158        A58         Antonov An-158"
      ]
     },
     "execution_count": 4,
     "metadata": {},
     "output_type": "execute_result"
    }
   ],
   "source": [
    "out[0].head()"
   ]
  },
  {
   "cell_type": "markdown",
   "metadata": {},
   "source": [
    "We can see that first row holds labels of columns, we can fix this easilly:"
   ]
  },
  {
   "cell_type": "code",
   "execution_count": 5,
   "metadata": {},
   "outputs": [],
   "source": [
    "df = out[0].drop(axis=0, labels=0)\n",
    "df.columns = [\"ICAO\", \"IATA\", \"Fullname\"]"
   ]
  },
  {
   "cell_type": "code",
   "execution_count": 6,
   "metadata": {},
   "outputs": [
    {
     "data": {
      "text/html": [
       "<div>\n",
       "<style scoped>\n",
       "    .dataframe tbody tr th:only-of-type {\n",
       "        vertical-align: middle;\n",
       "    }\n",
       "\n",
       "    .dataframe tbody tr th {\n",
       "        vertical-align: top;\n",
       "    }\n",
       "\n",
       "    .dataframe thead th {\n",
       "        text-align: right;\n",
       "    }\n",
       "</style>\n",
       "<table border=\"1\" class=\"dataframe\">\n",
       "  <thead>\n",
       "    <tr style=\"text-align: right;\">\n",
       "      <th></th>\n",
       "      <th>ICAO</th>\n",
       "      <th>IATA</th>\n",
       "      <th>Fullname</th>\n",
       "    </tr>\n",
       "  </thead>\n",
       "  <tbody>\n",
       "    <tr>\n",
       "      <th>1</th>\n",
       "      <td>A124</td>\n",
       "      <td>A4F</td>\n",
       "      <td>Antonov AN-124 Ruslan</td>\n",
       "    </tr>\n",
       "    <tr>\n",
       "      <th>2</th>\n",
       "      <td>A140</td>\n",
       "      <td>A40</td>\n",
       "      <td>Antonov AN-140</td>\n",
       "    </tr>\n",
       "    <tr>\n",
       "      <th>3</th>\n",
       "      <td>A148</td>\n",
       "      <td>A81</td>\n",
       "      <td>Antonov An-148</td>\n",
       "    </tr>\n",
       "    <tr>\n",
       "      <th>4</th>\n",
       "      <td>A158</td>\n",
       "      <td>A58</td>\n",
       "      <td>Antonov An-158</td>\n",
       "    </tr>\n",
       "    <tr>\n",
       "      <th>5</th>\n",
       "      <td>A19N</td>\n",
       "      <td>319</td>\n",
       "      <td>Airbus A319neo</td>\n",
       "    </tr>\n",
       "  </tbody>\n",
       "</table>\n",
       "</div>"
      ],
      "text/plain": [
       "   ICAO IATA               Fullname\n",
       "1  A124  A4F  Antonov AN-124 Ruslan\n",
       "2  A140  A40         Antonov AN-140\n",
       "3  A148  A81         Antonov An-148\n",
       "4  A158  A58         Antonov An-158\n",
       "5  A19N  319         Airbus A319neo"
      ]
     },
     "execution_count": 6,
     "metadata": {},
     "output_type": "execute_result"
    }
   ],
   "source": [
    "df.head()"
   ]
  },
  {
   "cell_type": "markdown",
   "metadata": {},
   "source": [
    "We can clean the dataset by removing duplicates (if any):"
   ]
  },
  {
   "cell_type": "code",
   "execution_count": 7,
   "metadata": {},
   "outputs": [],
   "source": [
    "df = df[~df.duplicated()]"
   ]
  },
  {
   "cell_type": "markdown",
   "metadata": {},
   "source": [
    "Split manufacturer from model:"
   ]
  },
  {
   "cell_type": "code",
   "execution_count": 8,
   "metadata": {
    "scrolled": false
   },
   "outputs": [],
   "source": [
    "def split(row):\n",
    "    series = row.copy()\n",
    "    fields = series.Fullname.split()\n",
    "    try:\n",
    "        field2 = fields[2]\n",
    "    except IndexError:\n",
    "        field2 = None\n",
    "    try:\n",
    "        field3 = fields[3]\n",
    "    except IndexError:\n",
    "        field3 = None\n",
    "    if series.Fullname == \"Launch - Boat\":\n",
    "        series[\"Manufacturer\"] = u\"Launch\"\n",
    "        series[\"Model\"] = u\"Boat\"\n",
    "    elif series.Fullname == \"Road Feeder Service - Cargo Truck\":\n",
    "        series[\"Manufacturer\"] = u\"Road Feeder Service\"\n",
    "        series[\"Model\"] = u\"Cargo Truck\"\n",
    "    elif series.Fullname == \"Concorde\":\n",
    "        series[\"Manufacturer\"] = u\"Aerospatiale\"\n",
    "        series[\"Model\"] = u\"Concorde\"\n",
    "    elif series.Fullname == \"EV-97 EuroStar / EV-97 Harmony\":\n",
    "        series[\"Manufacturer\"] = u\"Evektor-Aerotechnik\"\n",
    "        series[\"Model\"] = u\"EV-97 EuroStar / EV-97 Harmony\"\n",
    "    elif series.Fullname == \"Evektor SportStar\":\n",
    "        series[\"Manufacturer\"] = u\"Evektor-Aerotechnik\"\n",
    "        series[\"Model\"] = u\"SportStar\"\n",
    "    elif series.Fullname == \"Gulfstream Aerospace G-159 Gulfstream I\":\n",
    "        series[\"Manufacturer\"] = u\"Grumman\"\n",
    "        series[\"Model\"] = u\"G-159 Gulfstream I\"\n",
    "    elif fields[0] == \"Pipistrel\":\n",
    "        series[\"Manufacturer\"] = u\"Pipistrel\"\n",
    "        series[\"Model\"] = fields[1].rstrip('01234569789')\n",
    "    elif len(fields) == 1:\n",
    "        series[\"Manufacturer\"] = series.Fullname\n",
    "        series[\"Model\"] = series.Fullname\n",
    "    elif field3 in [\"Siddeley)\"]:\n",
    "        series[\"Manufacturer\"] = \" \".join(fields[0:4])\n",
    "        series[\"Model\"] = \" \".join(fields[4:])\n",
    "    elif field2 in [\"Factories\", \"Aviation)\", \"IPTN\", \"Mystere)\", \"Canada\", \"Industries\", \"(BAC)\"]:\n",
    "        series[\"Manufacturer\"] = u\" \".join(fields[0:3])\n",
    "        series[\"Model\"] = u\" \".join(fields[3:])\n",
    "    elif fields[1] in [\"Industrie\", \"(Aero)\", \"(Aerospatiale)\", \"Aerospace\", \"(BAC)\", \"Britten-Norman\", \n",
    "                       \"Dornier\", \"Havilland\", \"Siddeley\", \"Douglas\", \"(MBB)\", \"Helicopters\", \"(Nord)\", \n",
    "                       \"(Swearingen)\", \"Yunshuji\", \"Ultralight\", \"Rocket\"]:\n",
    "        series[\"Manufacturer\"] = u\" \".join(fields[0:2])\n",
    "        series[\"Model\"] = u\" \".join(fields[2:])\n",
    "    elif fields[0] in [\"Fokker\", \"BAe\", \"Airbus\", \"Boeing\", \"Antonov\", \"Agusta\", \"Ayres\", \"Avro\", \n",
    "                       \"Aerospatiale/Alenia\", \"Beechcraft\", \"Bell\", \"Canadair\", \"Cessna\", \"Convair\", \n",
    "                       \"Curtiss\", \"Douglas\", \"Embraer\", \"Eurocopter\", \"Fairchild\", \"Grumman\", \"Helio\",\n",
    "                       \"Ilyushin\", \"Junkers\", \"Lockheed\", \"LET\", \"Gates\", \"MIL\", \"Mitsubishi\", \"Piper\",\n",
    "                       \"Pilatus\", \"Partenavia\", \"Saab\", \"Sikorsky\", \"Shorts\", \"Aerospatiale/BAC\", \n",
    "                       \"Sukhoi\", \"Tupolev\", \"Vickers\", \"Yakovlev\", \"NAMC\", \"Beechcfrat\", \"Aerospatiale\", \n",
    "                       \"ICON\", \"Aeroprakt\", \"Robin\", \"Bombardier\", \"Beriev\", \"COMAC\", \"CASA/IPTN\", \n",
    "                       \"Tecnam\", \"Dassault\", \"Gulfstream\", \"Honda\", \"Learjet\", \"Mil\", \"Pipistrel\", \n",
    "                       \"Reims-Cessna\", \"Socata\"]:\n",
    "        series[\"Manufacturer\"] = fields[0]\n",
    "        series[\"Model\"] = u\" \".join(fields[1:])\n",
    "    else:\n",
    "        series[\"Manufacturer\"] = series.Fullname\n",
    "        series[\"Model\"] = series.Fullname\n",
    "    series.drop(labels=\"Fullname\", inplace=True)\n",
    "    return series"
   ]
  },
  {
   "cell_type": "code",
   "execution_count": 9,
   "metadata": {},
   "outputs": [],
   "source": [
    "df2 = df.apply(split, axis=1)"
   ]
  },
  {
   "cell_type": "markdown",
   "metadata": {},
   "source": [
    "And now let's map manufacturer names:"
   ]
  },
  {
   "cell_type": "code",
   "execution_count": 10,
   "metadata": {},
   "outputs": [],
   "source": [
    "df2.Manufacturer.replace({u\"BAe\": u\"British Aerospace\",\n",
    "                          u\"British Aerospace (BAC)\": u\"British Aerospace\",\n",
    "                          u\"Airbus Industrie\": u\"Airbus\", \n",
    "                          u\"Gulfstream/Rockwell (Aero)\": u\"Gulfstream/Rockwell\",\n",
    "                          u\"Gulfstream/Rockwell\": u\"Gulfstream/Rockwell\",\n",
    "                          u\"Eurocopter (Aerospatiale)\": u\"Eurocopter\",\n",
    "                          u\"Eurocopter (MBB)\": u\"Eurocopter\", \n",
    "                          u\"Beechcfrat\": u\"Beechcraft\", \n",
    "                          u\"Aerospatiale (Sud Aviation)\": u\"Aerospatiale\",\n",
    "                          u\"Aerospatiale (Nord)\": u\"Aerospatiale\",\n",
    "                          u\"Aerospatiale/Alenia\": u\"ATR\",\n",
    "                          u\"CASA / IPTN\": u\"CASA/IPTN\",\n",
    "                          u\"Dassault (Breguet Mystere)\": u\"Dassault\",\n",
    "                          u\"MIL\": u\"Mil\",\n",
    "                          u\"De Havilland Canada\": u\"De Havilland\"}, inplace=True)"
   ]
  },
  {
   "cell_type": "code",
   "execution_count": 11,
   "metadata": {},
   "outputs": [
    {
     "name": "stdout",
     "output_type": "stream",
     "text": [
      "[u'ATR' u'Aeroprakt' u'Aerospatiale' u'Airbus' u'Antonov' u'Avro'\n",
      " u'Beechcraft' u'Bell' u'Beriev' u'Boeing' u'Bombardier'\n",
      " u'British Aerospace' u'CASA/IPTN' u'COMAC' u'Canadair' u'Cessna'\n",
      " u'Convair' u'Curtiss' u'Dassault' u'De Havilland' u'Douglas' u'Embraer'\n",
      " u'Eurocopter' u'Evektor-Aerotechnik' u'Fairchild Dornier' u'Fokker'\n",
      " u'Government Aircraft Factories' u'Grumman' u'Gulfstream'\n",
      " u'Gulfstream/Rockwell' u'Harbin Yunshuji' u'Hawker Siddeley' u'Honda'\n",
      " u'ICON' u'Ilyushin' u'Israel Aircraft Industries' u'Junkers' u'LET'\n",
      " u'Learjet' u'Lockheed' u'MD Helicopters' u'McDonnell Douglas' u'Mil'\n",
      " u'Mitsubishi' u'NAMC' u'Partenavia' u'Pilatus' u'Pilatus Britten-Norman'\n",
      " u'Piper' u'Pipistrel' u'Reims-Cessna' u'Robin' u'Saab' u'Shorts'\n",
      " u'Sikorsky' u'Socata' u'Sukhoi' u'TL Ultralight' u'Team Rocket' u'Tecnam'\n",
      " u'Tupolev' u'Yakovlev']\n"
     ]
    }
   ],
   "source": [
    "manuf = df2.Manufacturer.unique()\n",
    "manuf.sort()\n",
    "print manuf"
   ]
  },
  {
   "cell_type": "code",
   "execution_count": 12,
   "metadata": {},
   "outputs": [
    {
     "name": "stdout",
     "output_type": "stream",
     "text": [
      "[u'100' u'1124 Westwind'\n",
      " u'125 series / Hawker/Raytheon 700/800/800XP/850/900'\n",
      " u'125-1000 series / Hawker/Raytheon 1000' u'146-100' u'146-200'\n",
      " u'146-300' u'152' u'162' u'170' u'172' u'172 Cutlass RG'\n",
      " u'175 (long wing)' u'175 (short wing)' u'177 Cardinal RG' u'182 Skylane'\n",
      " u'190' u'1900' u'195' u'2000' u'208 Caravan' u'210 Centurion' u'212'\n",
      " u'212 Aviocar' u'262' u'328JET' u'35 / 36 / C-21A' u'410' u'412' u'415'\n",
      " u'429' u'50' u'60' u'70' u'707' u'717' u'720B' u'727-100' u'727-200'\n",
      " u'737 MAX 10' u'737 MAX 7' u'737 MAX 8' u'737 MAX 9' u'737-200'\n",
      " u'737-300' u'737-400' u'737-500' u'737-600' u'737-700' u'737-800'\n",
      " u'737-900' u'747 LCF Dreamlifter' u'747-100' u'747-200' u'747-300'\n",
      " u'747-400' u'747-8' u'747SP' u'747SR' u'757-200' u'757-300' u'767-200'\n",
      " u'767-300' u'767-400' u'777-200 / Boeing 777-200ER'\n",
      " u'777-200LR / Boeing 777F' u'777-300' u'777-300ER' u'777-8' u'777-9'\n",
      " u'787-10' u'787-8' u'787-9' u'A-22 Foxbat / A-22 Valor / A-22 Vision'\n",
      " u'A300' u'A300-600' u'A300-600ST Beluga Freighter' u'A310' u'A318'\n",
      " u'A319' u'A319neo' u'A320' u'A320neo' u'A321' u'A321neo' u'A330-200'\n",
      " u'A330-300' u'A330-800neo' u'A330-900neo' u'A340-200' u'A340-300'\n",
      " u'A340-500' u'A340-600' u'A350-1000' u'A350-900' u'A5' u'AN-12'\n",
      " u'AN-124 Ruslan' u'AN-140' u'AN-24' u'AN-26' u'AN-28' u'AN-30' u'AN-32'\n",
      " u'AN-72 / AN-74' u'AS332 Super Puma'\n",
      " u'AS350 \\xc9cureuil / AS355 Ecureuil 2 / AS550 Fennec' u'ATL' u'ATP'\n",
      " u'ATR 42-300 / 320' u'ATR 42-500' u'ATR 42-600' u'ATR 72'\n",
      " u'ATR 72-200 series' u'ATR 72-500' u'ATR 72-600' u'An-148' u'An-158'\n",
      " u'An-225 Mriya' u'BD-100 Challenger 300' u'BD-700 Global 5000'\n",
      " u'BN-2A Mk III Trislander' u'BN-2A/B Islander' u'Baron / 55 Baron'\n",
      " u'Baron / 58 Baron' u'Be-200 Altair' u'Bo.105' u'C-46 Commando' u'C-919'\n",
      " u'CL-44' u'CN-235' u'CS100' u'CS300' u'CV-240 & -440'\n",
      " u'CV-580, Convair CV-600, Convair CV-640' u'Challenger' u'Citation CJ2'\n",
      " u'Citation CJ3' u'Citation CJ4' u'Citation Excel' u'Citation I'\n",
      " u'Citation II' u'Citation III, VI, VII' u'Citation Mustang'\n",
      " u'Citation Sovereign' u'Citation V' u'Citation X' u'CitationJet'\n",
      " u'Commander' u'Concorde' u'DC-10' u'DC-3' u'DC-6' u'DC-8-50' u'DC-8-62'\n",
      " u'DC-8-72' u'DC-9-10' u'DC-9-20' u'DC-9-30' u'DC-9-40' u'DC-9-50'\n",
      " u'DH.104 Dove' u'DH.114 Heron' u'DHC-2 Beaver' u'DHC-2 Turbo-Beaver'\n",
      " u'DHC-3 Otter' u'DHC-4 Caribou' u'DHC-5 Buffalo' u'DHC-6 Twin Otter'\n",
      " u'DHC-7 Dash 7' u'DHC-8-100 Dash 8 / 8Q' u'DHC-8-200 Dash 8 / 8Q'\n",
      " u'DHC-8-300 Dash 8 / 8Q' u'DHC-8-400 Dash 8Q' u'Do.228' u'Do.328'\n",
      " u'EC120 Colibri / Harbin HC120' u'EC135 / EC635' u'EC145'\n",
      " u'EC225 Super Puma' u'EMB 110 Bandeirante' u'EMB 120 Brasilia'\n",
      " u'EV-97 EuroStar / EV-97 Harmony' u'F1' u'F27 Friendship'\n",
      " u'F28 Fellowship' u'F406 Caravan II' u'Falcon 2000' u'Falcon 7X'\n",
      " u'Falcon 900' u'G-159 Gulfstream I' u'G-21 Goose' u'G-73 Turbo Mallard'\n",
      " u'G280' u'G650' u'Global Express / Raytheon Sentinel' u'HA-420'\n",
      " u'HR200/R2000 series, Alpha160A' u'HS 748' u'IL114' u'IL18' u'IL62'\n",
      " u'IL76' u'IL86' u'IL96' u'IV' u'Jetstream 31' u'Jetstream 32'\n",
      " u'Jetstream 41' u'Ju52/3M' u'L-1011 Tristar'\n",
      " u'L-1049 Super Constellation' u'L-182 / 282 / 382 (L-100) Hercules'\n",
      " u'L-188 Electra' u'Legacy 450' u'Legacy 600 / Legacy 650' u'Lineage 1000'\n",
      " u'MD-11' u'MD-81' u'MD-82' u'MD-83' u'MD-87' u'MD-88' u'MD-90'\n",
      " u'MD900 Explorer' u'Mi-24 / Mi-25 / Mi-35'\n",
      " u'Mi-8 / Mi-17 / Mi-171 / Mil-172' u'Mu-2' u'N22B / N24A Nomad'\n",
      " u'One Eleven' u'P.68' u'P2006T' u'P92 Echo / P92 Eaglet / P92 SeaSky'\n",
      " u'PA-28 (above 200 hp)' u'PA-28 (up to 180 hp)' u'PA-31 Navajo'\n",
      " u'PA-44 Seminole' u'PA-46' u'PC-12' u'PC-6 Turbo Porter' u'Phenom 100'\n",
      " u'Phenom 300' u'RJ100' u'RJ135' u'RJ140' u'RJ145' u'RJ70' u'RJ85'\n",
      " u'Regional Jet 100' u'Regional Jet 1000' u'Regional Jet 200'\n",
      " u'Regional Jet 700' u'Regional Jet 900' u'S-58T' u'S-61' u'S-76' u'S-92'\n",
      " u'SA365C / SA365N Dauphin 2' u'SC-5 Belfast' u'SC-7 Skyvan' u'SD.330'\n",
      " u'SD.360' u'SF340A/B' u'SN.601 Corvette' u'Se.210 Caravelle' u'Sinus[3]'\n",
      " u'SportStar' u'Superjet 100-95' u'TB-20 Trinidad'\n",
      " u'TL-96 Star / TL-2000 Sting' u'Taurus[3]' u'Tu-134' u'Tu-144' u'Tu-154'\n",
      " u'Tu-204 / Tu-214' u'Turbo Commander' u'V' u'Virus[3]' u'Y12' u'YS-11'\n",
      " u'Yak-40' u'Yak-42']\n"
     ]
    }
   ],
   "source": [
    "models = df2.Model.unique()\n",
    "models.sort()\n",
    "print models"
   ]
  },
  {
   "cell_type": "markdown",
   "metadata": {},
   "source": [
    "Now save the dataset for a later re-use:"
   ]
  },
  {
   "cell_type": "code",
   "execution_count": 13,
   "metadata": {},
   "outputs": [],
   "source": [
    "df2.to_csv(\"../data/aircrafts_codes.csv\", encoding='utf-8')"
   ]
  },
  {
   "cell_type": "code",
   "execution_count": null,
   "metadata": {},
   "outputs": [],
   "source": []
  }
 ],
 "metadata": {
  "kernelspec": {
   "display_name": "Python 2",
   "language": "python",
   "name": "python2"
  },
  "language_info": {
   "codemirror_mode": {
    "name": "ipython",
    "version": 2
   },
   "file_extension": ".py",
   "mimetype": "text/x-python",
   "name": "python",
   "nbconvert_exporter": "python",
   "pygments_lexer": "ipython2",
   "version": "2.7.15"
  }
 },
 "nbformat": 4,
 "nbformat_minor": 2
}
