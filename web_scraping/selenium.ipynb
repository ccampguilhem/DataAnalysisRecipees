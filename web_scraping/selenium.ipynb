{
 "cells": [
  {
   "cell_type": "markdown",
   "metadata": {},
   "source": [
    "# Web scraping using selenium"
   ]
  },
  {
   "cell_type": "markdown",
   "metadata": {},
   "source": [
    "This notebook assumes that you have selenium installed along with the browser driver. You can find the drivers here:\n",
    "\n",
    "http://www.seleniumhq.org/download/\n",
    "\n",
    "Here we use the Chrome driver but you can use anyone of your choice.\n",
    "\n",
    "The selenium package may be installed in anacoda with:\n",
    "\n",
    "```bash\n",
    "conda install -c conda-forge selenium\n",
    "```\n",
    "\n",
    "This short tutorial uses a trick mentioned in this [post](https://stackoverflow.com/a/23447450/8500344) so that the brower may be hidden.\n",
    "\n",
    "Start with the required imports:"
   ]
  },
  {
   "cell_type": "code",
   "execution_count": 1,
   "metadata": {
    "collapsed": true
   },
   "outputs": [],
   "source": [
    "from selenium import webdriver\n",
    "from selenium.webdriver.common.keys import Keys\n",
    "from selenium.webdriver.chrome.options import Options"
   ]
  },
  {
   "cell_type": "markdown",
   "metadata": {},
   "source": [
    "The following configures the driver. Here we configure window size and a headless version of the driver."
   ]
  },
  {
   "cell_type": "code",
   "execution_count": 2,
   "metadata": {
    "collapsed": true
   },
   "outputs": [],
   "source": [
    "WINDOW_SIZE = \"1920,1080\"\n",
    "\n",
    "chrome_options = Options()  \n",
    "chrome_options.add_argument(\"--headless\")  \n",
    "chrome_options.add_argument(\"--window-size=%s\" % WINDOW_SIZE)"
   ]
  },
  {
   "cell_type": "markdown",
   "metadata": {},
   "source": [
    "Then we just have to create the driver. Omit to pass the options if you want to see the driver window while you work. It might be use to inspect the page your are browsing with developper tools."
   ]
  },
  {
   "cell_type": "code",
   "execution_count": 3,
   "metadata": {},
   "outputs": [],
   "source": [
    "driver = webdriver.Chrome(chrome_options=chrome_options)"
   ]
  },
  {
   "cell_type": "markdown",
   "metadata": {},
   "source": [
    "Now we go to the url we want to scrap. This example uses the www.airfleets.net which is an amazing site for aeronautic fans:"
   ]
  },
  {
   "cell_type": "code",
   "execution_count": 4,
   "metadata": {
    "collapsed": true
   },
   "outputs": [],
   "source": [
    "driver.get(\"http://www.airfleets.net\")"
   ]
  },
  {
   "cell_type": "markdown",
   "metadata": {},
   "source": [
    "The following function selects an element with specified id in the page `search_bas` which is a line edit widget, clears its content, writes the content of `value` variable, presses RETURN key and the extracts and returns the source page (html content)."
   ]
  },
  {
   "cell_type": "code",
   "execution_count": 5,
   "metadata": {
    "collapsed": true
   },
   "outputs": [],
   "source": [
    "def request(driver, value):\n",
    "    elem = driver.find_element_by_id(\"search_bas\")\n",
    "    elem.clear()\n",
    "    elem.send_keys(value)\n",
    "    elem.send_keys(Keys.RETURN)\n",
    "    return driver.page_source"
   ]
  },
  {
   "cell_type": "markdown",
   "metadata": {},
   "source": [
    "Simply use the function to get all aircraft with manufacturer serial number being 100:"
   ]
  },
  {
   "cell_type": "code",
   "execution_count": 6,
   "metadata": {},
   "outputs": [],
   "source": [
    "result = request(driver, \"100\")"
   ]
  },
  {
   "cell_type": "markdown",
   "metadata": {},
   "source": [
    "Finally get all Airbus aircrafts mentioned in this page:"
   ]
  },
  {
   "cell_type": "code",
   "execution_count": 7,
   "metadata": {},
   "outputs": [
    {
     "name": "stdout",
     "output_type": "stream",
     "text": [
      "[u'A300', u'A300', u'A300', u'A320', u'A330', u'A380']\n"
     ]
    }
   ],
   "source": [
    "import re\n",
    "pattern = re.compile(r\"A[0-9]{3}\")\n",
    "print pattern.findall(result)"
   ]
  },
  {
   "cell_type": "markdown",
   "metadata": {},
   "source": [
    "You can of course do things much more complitated to parse the page and extract the information you want."
   ]
  },
  {
   "cell_type": "code",
   "execution_count": null,
   "metadata": {
    "collapsed": true
   },
   "outputs": [],
   "source": []
  }
 ],
 "metadata": {
  "kernelspec": {
   "display_name": "Python 2",
   "language": "python",
   "name": "python2"
  },
  "language_info": {
   "codemirror_mode": {
    "name": "ipython",
    "version": 2
   },
   "file_extension": ".py",
   "mimetype": "text/x-python",
   "name": "python",
   "nbconvert_exporter": "python",
   "pygments_lexer": "ipython2",
   "version": "2.7.15"
  }
 },
 "nbformat": 4,
 "nbformat_minor": 2
}
